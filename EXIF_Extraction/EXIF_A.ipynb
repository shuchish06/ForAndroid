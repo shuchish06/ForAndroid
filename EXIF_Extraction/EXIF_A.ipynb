{
 "cells": [
  {
   "cell_type": "code",
   "execution_count": 1,
   "id": "b6808083",
   "metadata": {
    "execution": {
     "iopub.execute_input": "2025-07-10T15:03:29.275783Z",
     "iopub.status.busy": "2025-07-10T15:03:29.275207Z",
     "iopub.status.idle": "2025-07-10T15:03:29.575880Z",
     "shell.execute_reply": "2025-07-10T15:03:29.575528Z"
    }
   },
   "outputs": [],
   "source": [
    "import json\n",
    "import pandas as pd\n",
    "import os"
   ]
  },
  {
   "cell_type": "code",
   "execution_count": null,
   "id": "df4a54ec",
   "metadata": {
    "execution": {
     "iopub.execute_input": "2025-07-10T15:03:29.577506Z",
     "iopub.status.busy": "2025-07-10T15:03:29.577286Z",
     "iopub.status.idle": "2025-07-10T15:03:29.579489Z",
     "shell.execute_reply": "2025-07-10T15:03:29.579156Z"
    }
   },
   "outputs": [],
   "source": [
    "EXIF_JSON = \"/home/shuchi-sharma/Desktop/internSHip Poj/EXIF_Extraction/exif_analyze.json\"\n"
   ]
  },
  {
   "cell_type": "code",
   "execution_count": 3,
   "id": "598fcf74",
   "metadata": {
    "execution": {
     "iopub.execute_input": "2025-07-10T15:03:29.580808Z",
     "iopub.status.busy": "2025-07-10T15:03:29.580605Z",
     "iopub.status.idle": "2025-07-10T15:03:29.583187Z",
     "shell.execute_reply": "2025-07-10T15:03:29.582855Z"
    }
   },
   "outputs": [],
   "source": [
    "def load_exif_data(json_path):\n",
    "    if not os.path.exists(json_path):\n",
    "        raise FileNotFoundError(\"exif_analyze.json not found\")\n",
    "\n",
    "    with open(json_path, \"r\", encoding=\"utf-8\") as f:\n",
    "        data = json.load(f)\n",
    "    return data"
   ]
  },
  {
   "cell_type": "code",
   "execution_count": 4,
   "id": "f65213a9",
   "metadata": {
    "execution": {
     "iopub.execute_input": "2025-07-10T15:03:29.584530Z",
     "iopub.status.busy": "2025-07-10T15:03:29.584300Z",
     "iopub.status.idle": "2025-07-10T15:03:29.586540Z",
     "shell.execute_reply": "2025-07-10T15:03:29.586136Z"
    }
   },
   "outputs": [],
   "source": [
    "metadata_dict = load_exif_data(EXIF_JSON)"
   ]
  },
  {
   "cell_type": "code",
   "execution_count": 5,
   "id": "d06d1dfa",
   "metadata": {
    "execution": {
     "iopub.execute_input": "2025-07-10T15:03:29.588008Z",
     "iopub.status.busy": "2025-07-10T15:03:29.587701Z",
     "iopub.status.idle": "2025-07-10T15:03:29.590495Z",
     "shell.execute_reply": "2025-07-10T15:03:29.590162Z"
    }
   },
   "outputs": [],
   "source": [
    "def extract_temporal_metadata(metadata_dict):\n",
    "    temporal_data = []\n",
    "\n",
    "    for image_name, metadata in metadata_dict.items():\n",
    "        date_original = metadata.get(\"EXIF:DateTimeOriginal\", \"NA\")\n",
    "        date_modified = metadata.get(\"EXIF:ModifyDate\", \"NA\")\n",
    "        date_created = metadata.get(\"EXIF:CreateDate\", \"NA\")\n",
    "        sub_sec = metadata.get(\"EXIF:SubSecTimeOriginal\", \"\")\n",
    "\n",
    "        temporal_data.append({\n",
    "            \"Image\": image_name,\n",
    "            \"DateTimeOriginal\": date_original + (f\".{sub_sec}\" if sub_sec else \"\"),\n",
    "            \"ModifyDate\": date_modified,\n",
    "            \"CreateDate\": date_created\n",
    "        })\n",
    "\n",
    "    df = pd.DataFrame(temporal_data)\n",
    "    return df"
   ]
  },
  {
   "cell_type": "code",
   "execution_count": 6,
   "id": "553f0afd",
   "metadata": {
    "execution": {
     "iopub.execute_input": "2025-07-10T15:03:29.591894Z",
     "iopub.status.busy": "2025-07-10T15:03:29.591624Z",
     "iopub.status.idle": "2025-07-10T15:03:29.593686Z",
     "shell.execute_reply": "2025-07-10T15:03:29.593334Z"
    }
   },
   "outputs": [],
   "source": [
    "def create_google_maps_url(gps_coords):\n",
    "    return f\"https://maps.google.com/?q={gps_coords[\"lat\"]},{gps_coords[\"lon\"]}\""
   ]
  },
  {
   "cell_type": "code",
   "execution_count": 7,
   "id": "a56f6048",
   "metadata": {
    "execution": {
     "iopub.execute_input": "2025-07-10T15:03:29.594916Z",
     "iopub.status.busy": "2025-07-10T15:03:29.594668Z",
     "iopub.status.idle": "2025-07-10T15:03:29.597130Z",
     "shell.execute_reply": "2025-07-10T15:03:29.596820Z"
    }
   },
   "outputs": [],
   "source": [
    "def extract_gps_from_metadata(metadata):\n",
    "    def clean(value):\n",
    "        return value if value and str(value).strip() else \"NA\"\n",
    "\n",
    "    gps = {\n",
    "        \"Latitude\": clean(metadata.get(\"EXIF:GPSLatitude\")),\n",
    "        \"Longitude\": clean(metadata.get(\"EXIF:GPSLongitude\")),\n",
    "        \"LatitudeRef\": clean(metadata.get(\"EXIF:GPSLatitudeRef\")),\n",
    "        \"LongitudeRef\": clean(metadata.get(\"EXIF:GPSLongitudeRef\"))\n",
    "    }\n",
    "    return gps"
   ]
  },
  {
   "cell_type": "code",
   "execution_count": 8,
   "id": "f3f4cb6f",
   "metadata": {
    "execution": {
     "iopub.execute_input": "2025-07-10T15:03:29.598593Z",
     "iopub.status.busy": "2025-07-10T15:03:29.598319Z",
     "iopub.status.idle": "2025-07-10T15:03:29.600785Z",
     "shell.execute_reply": "2025-07-10T15:03:29.600499Z"
    }
   },
   "outputs": [],
   "source": [
    "\n",
    "def create_google_maps_url(coords):\n",
    "    if all(coords.get(k) not in [None, \"\", \"NA\"] for k in [\"Latitude\", \"Longitude\", \"LatitudeRef\", \"LongitudeRef\"]):\n",
    "        return f\"https://www.google.com/maps?q={coords['Latitude']},{coords['Longitude']}\"\n",
    "    return \"NA\""
   ]
  },
  {
   "cell_type": "code",
   "execution_count": 9,
   "id": "84891324",
   "metadata": {
    "execution": {
     "iopub.execute_input": "2025-07-10T15:03:29.602046Z",
     "iopub.status.busy": "2025-07-10T15:03:29.601820Z",
     "iopub.status.idle": "2025-07-10T15:03:29.604238Z",
     "shell.execute_reply": "2025-07-10T15:03:29.603892Z"
    }
   },
   "outputs": [],
   "source": [
    "def process_all_images_for_gps(metadata_dict):\n",
    "    gps_records = []\n",
    "    map_urls = {}\n",
    "    for image_name, metadata in metadata_dict.items():\n",
    "        coords = extract_gps_from_metadata(metadata)\n",
    "        gps_records.append({\"Image\": image_name, **coords})\n",
    "        map_urls[image_name] = create_google_maps_url(coords)\n",
    "    return pd.DataFrame(gps_records), map_urls"
   ]
  },
  {
   "cell_type": "code",
   "execution_count": 10,
   "id": "feb7a40c",
   "metadata": {
    "execution": {
     "iopub.execute_input": "2025-07-10T15:03:29.605485Z",
     "iopub.status.busy": "2025-07-10T15:03:29.605215Z",
     "iopub.status.idle": "2025-07-10T15:03:29.608617Z",
     "shell.execute_reply": "2025-07-10T15:03:29.608228Z"
    }
   },
   "outputs": [],
   "source": [
    "def get_device_make(image_metadata):\n",
    "    make = image_metadata.get(\"EXIF:Make\", \"\").strip()\n",
    "    return make if make else \"NA\"\n",
    "\n",
    "def get_device_model(image_metadata):\n",
    "    model = image_metadata.get(\"EXIF:Model\", \"\").strip()\n",
    "    return model if model else \"NA\"\n",
    "\n",
    "def get_camera_serial(image_metadata):\n",
    "    possible_keys = [\n",
    "        \"EXIF:BodySerialNumber\",\n",
    "        \"MakerNotes:SerialNumber\",\n",
    "        \"EXIF:SerialNumber\",\n",
    "        \"Composite:SerialNumber\"\n",
    "    ]\n",
    "    for key in possible_keys:\n",
    "        serial = image_metadata.get(key, \"\").strip()\n",
    "        if serial:\n",
    "            return serial\n",
    "    return \"NA\"\n",
    "\n",
    "def summarize_device_analysis(image_metadata):\n",
    "    return {\n",
    "        \"DeviceMake\": get_device_make(image_metadata),\n",
    "        \"DeviceModel\": get_device_model(image_metadata),\n",
    "        \"CameraSerial\": get_camera_serial(image_metadata)\n",
    "    }\n",
    "\n",
    "\n"
   ]
  },
  {
   "cell_type": "code",
   "execution_count": 11,
   "id": "ce389a89",
   "metadata": {
    "execution": {
     "iopub.execute_input": "2025-07-10T15:03:29.609892Z",
     "iopub.status.busy": "2025-07-10T15:03:29.609713Z",
     "iopub.status.idle": "2025-07-10T15:03:29.612084Z",
     "shell.execute_reply": "2025-07-10T15:03:29.611731Z"
    }
   },
   "outputs": [],
   "source": [
    "def analyze_all_devices_for_analysis(metadata_dict):\n",
    "    result = {}\n",
    "    for filename, image_metadata in metadata_dict.items():\n",
    "        result[filename] = summarize_device_analysis(image_metadata)\n",
    "    \n",
    "    return pd.DataFrame.from_dict(result, orient='index')"
   ]
  },
  {
   "cell_type": "code",
   "execution_count": 12,
   "id": "eaff0240",
   "metadata": {
    "execution": {
     "iopub.execute_input": "2025-07-10T15:03:29.613496Z",
     "iopub.status.busy": "2025-07-10T15:03:29.613235Z",
     "iopub.status.idle": "2025-07-10T15:03:29.616269Z",
     "shell.execute_reply": "2025-07-10T15:03:29.615953Z"
    }
   },
   "outputs": [],
   "source": [
    "def check_multiple_images_for_editors(all_metadata: dict) -> list:\n",
    "    editors=[\"photoshop\",\"snapseed\",\"jpegmini\",\"pixlr\",\"lightroom\",\"canva\",\"gimp\",\"paint\",\"picsart\"]\n",
    "    out=[]\n",
    "    for name,meta in all_metadata.items():\n",
    "        s=[]\n",
    "        for k in [\"EXIF:Software\",\"File:Comment\",\"ICC_Profile:ProfileDescription\"]:\n",
    "            v=str(meta.get(k,\"\")).lower()\n",
    "            s+=[e for e in editors if e in v]\n",
    "        s=list(set(s))\n",
    "        out.append({\"image\":name,\"flagged\":\"Yes\" if len(s)>0 else \"No\",\"editors_detected\":\", \".join(s) if s else \"none\"})\n",
    "    return out\n"
   ]
  },
  {
   "cell_type": "code",
   "execution_count": 13,
   "id": "bac4cd67",
   "metadata": {
    "execution": {
     "iopub.execute_input": "2025-07-10T15:03:29.617716Z",
     "iopub.status.busy": "2025-07-10T15:03:29.617430Z",
     "iopub.status.idle": "2025-07-10T15:03:29.621793Z",
     "shell.execute_reply": "2025-07-10T15:03:29.621455Z"
    }
   },
   "outputs": [],
   "source": [
    "def generate_summary_analysis(df_time, df_gps, df_device, df_edited):\n",
    "    summary = []\n",
    "    \n",
    "    # Image count\n",
    "    total_images = len(df_time)\n",
    "    summary.append(f\"Total images analyzed: {total_images}\")\n",
    "    \n",
    "    # Temporal analysis\n",
    "    images_with_datetime = len(df_time[df_time['DateTimeOriginal'] != 'NA'])\n",
    "    summary.append(f\"Images with timestamp data: {images_with_datetime}/{total_images}\")\n",
    "    \n",
    "    # Modified images detection\n",
    "    modified_images = []\n",
    "    for _, row in df_time.iterrows():\n",
    "        if row['CreateDate'] != 'NA' and row['ModifyDate'] != 'NA':\n",
    "            if row['CreateDate'] != row['ModifyDate']:\n",
    "                modified_images.append(row['Image'])\n",
    "    \n",
    "    if modified_images:\n",
    "        summary.append(f\"Images with modification traces: {', '.join(modified_images)}\")\n",
    "    else:\n",
    "        summary.append(f\"Images with modification traces: None \")\n",
    "    \n",
    "    # GPS analysis\n",
    "    images_with_gps = len(df_gps[(df_gps['Latitude'] != 'NA') & (df_gps['Longitude'] != 'NA')])\n",
    "    summary.append(f\"Images with GPS coordinates: {images_with_gps}/{total_images}\")\n",
    "    \n",
    "    # Device analysis\n",
    "    device_images = []\n",
    "    for _, row in df_device.iterrows():\n",
    "        if row['DeviceMake'] != 'NA':\n",
    "            device_images.append(f\"{row.name} ({row['DeviceMake']})\")\n",
    "    \n",
    "    if device_images:\n",
    "        summary.append(f\"Device information found: {', '.join(device_images)}\")\n",
    "    \n",
    "    # Editing analysis\n",
    "    edited_image_details = []\n",
    "    for img in df_edited:\n",
    "        if img['flagged'] == 'Yes':\n",
    "            edited_image_details.append(f\"{img['image']} ({img['editors_detected']})\")\n",
    "    \n",
    "    if edited_image_details:\n",
    "        summary.append(f\"Images with editing traces: {', '.join(edited_image_details)}\")\n",
    "    \n",
    "    return '\\n'.join(summary)"
   ]
  },
  {
   "cell_type": "code",
   "execution_count": 14,
   "id": "a626144b",
   "metadata": {
    "execution": {
     "iopub.execute_input": "2025-07-10T15:03:29.622914Z",
     "iopub.status.busy": "2025-07-10T15:03:29.622787Z",
     "iopub.status.idle": "2025-07-10T15:03:29.627656Z",
     "shell.execute_reply": "2025-07-10T15:03:29.627346Z"
    }
   },
   "outputs": [],
   "source": [
    "df_time = extract_temporal_metadata(metadata_dict)\n",
    "df_gps ,map_link=process_all_images_for_gps(metadata_dict)\n",
    "df_device=analyze_all_devices_for_analysis(metadata_dict)\n",
    "df_edited=check_multiple_images_for_editors(metadata_dict)\n",
    "summary_text=generate_summary_analysis(df_time, df_gps, df_device, df_edited)\n"
   ]
  }
 ],
 "metadata": {
  "kernelspec": {
   "display_name": "Python 3 (ipykernel)",
   "language": "python",
   "name": "python3"
  },
  "language_info": {
   "codemirror_mode": {
    "name": "ipython",
    "version": 3
   },
   "file_extension": ".py",
   "mimetype": "text/x-python",
   "name": "python",
   "nbconvert_exporter": "python",
   "pygments_lexer": "ipython3",
   "version": "3.12.3"
  }
 },
 "nbformat": 4,
 "nbformat_minor": 5
}
