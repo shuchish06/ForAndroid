{
 "cells": [
  {
   "cell_type": "code",
   "execution_count": 1,
   "id": "7ee75465-b780-4bd2-90cc-09f4ff3ac683",
   "metadata": {
    "execution": {
     "iopub.execute_input": "2025-07-13T15:04:44.275708Z",
     "iopub.status.busy": "2025-07-13T15:04:44.275405Z",
     "iopub.status.idle": "2025-07-13T15:04:44.280518Z",
     "shell.execute_reply": "2025-07-13T15:04:44.280060Z"
    }
   },
   "outputs": [],
   "source": [
    "import os\n",
    "import sys\n",
    "import exiftool\n",
    "import json\n"
   ]
  },
  {
   "cell_type": "code",
   "execution_count": 2,
   "id": "fcbbf79c",
   "metadata": {
    "execution": {
     "iopub.execute_input": "2025-07-13T15:04:44.282566Z",
     "iopub.status.busy": "2025-07-13T15:04:44.282151Z",
     "iopub.status.idle": "2025-07-13T15:04:44.284743Z",
     "shell.execute_reply": "2025-07-13T15:04:44.284417Z"
    }
   },
   "outputs": [],
   "source": [
    "img_path = \"/home/shuchi-sharma/Desktop/internSHip Poj/images\"\n",
    "output_file=\"/home/shuchi-sharma/Desktop/internSHip Poj/EXIF_Extraction/exif_data.txt\"\n",
    "analysis_file=\"/home/shuchi-sharma/Desktop/internSHip Poj/EXIF_Extraction/exif_analyze.json\"\n",
    "metadata_dict={}"
   ]
  },
  {
   "cell_type": "code",
   "execution_count": null,
   "id": "825f3c2c",
   "metadata": {
    "execution": {
     "iopub.execute_input": "2025-07-09T10:35:16.693571Z",
     "iopub.status.busy": "2025-07-09T10:35:16.692950Z",
     "iopub.status.idle": "2025-07-09T10:35:16.696812Z",
     "shell.execute_reply": "2025-07-09T10:35:16.696517Z"
    }
   },
   "outputs": [],
   "source": []
  },
  {
   "cell_type": "code",
   "execution_count": 3,
   "id": "fa5b00eb-b725-41f8-9a58-08ebd566d833",
   "metadata": {
    "execution": {
     "iopub.execute_input": "2025-07-13T15:04:44.286179Z",
     "iopub.status.busy": "2025-07-13T15:04:44.285929Z",
     "iopub.status.idle": "2025-07-13T15:04:44.288322Z",
     "shell.execute_reply": "2025-07-13T15:04:44.288011Z"
    }
   },
   "outputs": [],
   "source": [
    "def extract_metadata(filename):\n",
    "\n",
    "    with exiftool.ExifTool() as et:\n",
    "        output = et.execute(f\"-j\", filename)\n",
    "    metadata = json.loads(output)\n",
    "    metadata_dict[filename]=metadata[0]\n",
    "    \n",
    "    \n",
    "    return metadata[0]\n",
    "\n",
    "\n",
    "\n",
    "\n"
   ]
  },
  {
   "cell_type": "code",
   "execution_count": 4,
   "id": "c37f3de5-ad7d-4abc-b769-ebcc493d416b",
   "metadata": {
    "execution": {
     "iopub.execute_input": "2025-07-10T15:37:06.596833Z",
     "iopub.status.busy": "2025-07-10T15:37:06.596236Z",
     "iopub.status.idle": "2025-07-10T15:37:06.602823Z",
     "shell.execute_reply": "2025-07-10T15:37:06.601346Z"
    }
   },
   "outputs": [],
   "source": []
  },
  {
   "cell_type": "code",
   "execution_count": 4,
   "id": "d77ba179",
   "metadata": {
    "execution": {
     "iopub.execute_input": "2025-07-13T15:04:44.289641Z",
     "iopub.status.busy": "2025-07-13T15:04:44.289421Z",
     "iopub.status.idle": "2025-07-13T15:04:44.291695Z",
     "shell.execute_reply": "2025-07-13T15:04:44.291410Z"
    }
   },
   "outputs": [],
   "source": [
    "os.chdir(img_path)\n",
    "files = os.listdir()\n",
    "if len(files) == 0:\n",
    "    print(\"OHO NO CAN'T FIND ANY IMAGE :(\")\n",
    "    exit()\n"
   ]
  },
  {
   "cell_type": "markdown",
   "id": "da002532",
   "metadata": {},
   "source": []
  },
  {
   "cell_type": "code",
   "execution_count": 5,
   "id": "6cd9de1a",
   "metadata": {
    "execution": {
     "iopub.execute_input": "2025-07-13T15:04:44.292992Z",
     "iopub.status.busy": "2025-07-13T15:04:44.292776Z",
     "iopub.status.idle": "2025-07-13T15:04:44.398440Z",
     "shell.execute_reply": "2025-07-13T15:04:44.397897Z"
    }
   },
   "outputs": [],
   "source": [
    "output_str=\"\"\n",
    "\n",
    "for file in files:\n",
    "        \n",
    "        if file.lower().endswith((\".jpg\", \".jpeg\")):\n",
    "            metadata = extract_metadata(file)\n",
    "            for tag in metadata:\n",
    "                  \n",
    "                  if tag==\"SourceFile\":\n",
    "                        output_string=f\"                                               {tag}:{metadata[tag]}                                                            \"\n",
    "                  else:\n",
    "                       output_string=f\"{tag} : {metadata[tag]}\\n\"\n",
    "                  output_str+=output_string\n"
   ]
  },
  {
   "cell_type": "code",
   "execution_count": 6,
   "id": "c69fe910",
   "metadata": {
    "execution": {
     "iopub.execute_input": "2025-07-13T15:04:44.400254Z",
     "iopub.status.busy": "2025-07-13T15:04:44.400104Z",
     "iopub.status.idle": "2025-07-13T15:04:44.403605Z",
     "shell.execute_reply": "2025-07-13T15:04:44.403189Z"
    }
   },
   "outputs": [],
   "source": [
    "\n",
    "with open(output_file,\"w\") as f:\n",
    "      f.write(str(output_str))\n",
    "f.close()\n",
    "with open(analysis_file, \"w\", encoding=\"utf-8\") as f:\n",
    "        json.dump(metadata_dict, f, indent=4)"
   ]
  }
 ],
 "metadata": {
  "kernelspec": {
   "display_name": "Python 3 (ipykernel)",
   "language": "python",
   "name": "python3"
  },
  "language_info": {
   "codemirror_mode": {
    "name": "ipython",
    "version": 3
   },
   "file_extension": ".py",
   "mimetype": "text/x-python",
   "name": "python",
   "nbconvert_exporter": "python",
   "pygments_lexer": "ipython3",
   "version": "3.12.3"
  }
 },
 "nbformat": 4,
 "nbformat_minor": 5
}
